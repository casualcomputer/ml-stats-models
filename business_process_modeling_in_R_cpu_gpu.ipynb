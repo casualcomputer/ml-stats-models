{
  "nbformat": 4,
  "nbformat_minor": 0,
  "metadata": {
    "colab": {
      "provenance": [],
      "gpuType": "T4",
      "authorship_tag": "ABX9TyN6NqfcSUI+pTCFXUBIm1pw",
      "include_colab_link": true
    },
    "kernelspec": {
      "name": "ir",
      "display_name": "R"
    },
    "language_info": {
      "name": "R"
    },
    "accelerator": "GPU"
  },
  "cells": [
    {
      "cell_type": "markdown",
      "metadata": {
        "id": "view-in-github",
        "colab_type": "text"
      },
      "source": [
        "<a href=\"https://colab.research.google.com/github/casualcomputer/ml-stats-models/blob/main/business_process_modeling_in_R_cpu_gpu.ipynb\" target=\"_parent\"><img src=\"https://colab.research.google.com/assets/colab-badge.svg\" alt=\"Open In Colab\"/></a>"
      ]
    },
    {
      "cell_type": "markdown",
      "source": [
        "# Markov Modeling - Sampling from continous markov chain\n"
      ],
      "metadata": {
        "id": "A5cQIa9DBEy0"
      }
    },
    {
      "cell_type": "markdown",
      "source": [
        "## 1. No parallel programming in CPU"
      ],
      "metadata": {
        "id": "RP_VACOJDZNR"
      }
    },
    {
      "cell_type": "code",
      "execution_count": 4,
      "metadata": {
        "colab": {
          "base_uri": "https://localhost:8080/",
          "height": 191
        },
        "id": "d76Dy9yEA-9E",
        "outputId": "5a61f7b6-cba9-418c-cf88-b4e4e6cf8cec"
      },
      "outputs": [
        {
          "output_type": "stream",
          "name": "stdout",
          "text": [
            "[1] \"Start time: 2024-06-16 03:39:34.692605\"\n",
            "[1] \"End time: 2024-06-16 03:45:06.328434\"\n",
            "[1] \"Run time: 5.52726381619771\"\n"
          ]
        },
        {
          "output_type": "display_data",
          "data": {
            "text/plain": [
              "      Time            State         Simulation     \n",
              " Min.   : 0.000   Min.   :1.000   Min.   :      1  \n",
              " 1st Qu.: 0.000   1st Qu.:1.000   1st Qu.: 249877  \n",
              " Median : 1.489   Median :2.000   Median : 499818  \n",
              " Mean   : 3.237   Mean   :2.308   Mean   : 499911  \n",
              " 3rd Qu.: 4.745   3rd Qu.:4.000   3rd Qu.: 749926  \n",
              " Max.   :63.556   Max.   :4.000   Max.   :1000000  "
            ]
          },
          "metadata": {}
        }
      ],
      "source": [
        "library(parallel)\n",
        "library(ggplot2)\n",
        "\n",
        "set.seed(123)  # For reproducibility\n",
        "\n",
        "# Define the rate (generator) matrix\n",
        "Q <- as.matrix(rbind(\n",
        "  c(0, 0.25, 0, 0.25),\n",
        "  c(0.166, 0, 0.166, 0.166),\n",
        "  c(0, 0.25, 0, 0.25),\n",
        "  c(0, 0, 0, 0)\n",
        "))\n",
        "\n",
        "# Define the state space\n",
        "states <- 1:nrow(Q)\n",
        "\n",
        "# Function to choose the next state based on current state and rate matrix\n",
        "next_state <- function(current_state, Q) {\n",
        "  rates <- Q[current_state, ]\n",
        "  if (sum(rates) == 0) {\n",
        "    return(current_state)  # Stay in the current state if no transitions are possible\n",
        "  }\n",
        "  probs <- rates / sum(rates)\n",
        "  return(sample(states, size = 1, prob = probs))\n",
        "}\n",
        "\n",
        "# Function to determine the holding time based on the current state\n",
        "holding_time <- function(current_state, Q) {\n",
        "  rate <- sum(Q[current_state, ])\n",
        "  if (rate == 0) {\n",
        "    return(Inf)  # Infinite holding time if no transitions are possible\n",
        "  }\n",
        "  return(rexp(1, rate = rate))\n",
        "}\n",
        "\n",
        "# Function to simulate a single Markov chain sequence\n",
        "simulate_markov_chain <- function(Q, n_transitions, initial_state) {\n",
        "  current_state <- initial_state\n",
        "  current_time <- 0\n",
        "  sequence_of_states <- c(current_state)\n",
        "  transition_times <- c(current_time)\n",
        "\n",
        "  for (i in 1:n_transitions) {\n",
        "    ht <- holding_time(current_state, Q)\n",
        "    if (ht == Inf) {\n",
        "      break  # Stop if holding time is infinite\n",
        "    }\n",
        "    current_time <- current_time + ht\n",
        "    current_state <- next_state(current_state, Q)\n",
        "\n",
        "    sequence_of_states <- c(sequence_of_states, current_state)\n",
        "    transition_times <- c(transition_times, current_time)\n",
        "  }\n",
        "\n",
        "  return(data.frame(Time = transition_times, State = sequence_of_states))\n",
        "}\n",
        "\n",
        "# Parameters\n",
        "n_simulations <- 1000000\n",
        "n_transitions <- 100\n",
        "initial_state <- 1\n",
        "\n",
        "# Start time\n",
        "start_time <- Sys.time()\n",
        "\n",
        "# List to store results of all simulations\n",
        "all_simulations <- list()\n",
        "\n",
        "# Generate multiple series\n",
        "for (i in 1:n_simulations) {\n",
        "  sim_result <- simulate_markov_chain(Q, n_transitions, initial_state)\n",
        "  sim_result$Simulation <- i  # Add a column to identify the simulation\n",
        "  all_simulations[[i]] <- sim_result\n",
        "}\n",
        "\n",
        "# Combine all simulations into a single data frame\n",
        "combined_results <- do.call(rbind, all_simulations)\n",
        "\n",
        "# End time\n",
        "end_time <- Sys.time()\n",
        "\n",
        "# Calculate and print runtime\n",
        "run_time <- end_time - start_time\n",
        "print(paste(\"Start time:\", start_time))\n",
        "print(paste(\"End time:\", end_time))\n",
        "print(paste(\"Run time:\", run_time))\n",
        "\n",
        "# Print the combined results summary\n",
        "summary(combined_results)\n",
        "\n",
        "# Plot the state sequences for all simulations\n",
        "# library(ggplot2)\n",
        "# ggplot(combined_results, aes(x = Time, y = State, color = factor(Simulation))) +\n",
        "#   geom_step() +\n",
        "#   labs(title = \"Multiple Continuous-Time Markov Chain Simulations\",\n",
        "#        x = \"Time\",\n",
        "#        y = \"State\",\n",
        "#        color = \"Simulation\") +\n",
        "#   theme_minimal()"
      ]
    },
    {
      "cell_type": "markdown",
      "source": [
        "## 2. Parallel programming in CPU"
      ],
      "metadata": {
        "id": "KuK93Cm-DdMP"
      }
    },
    {
      "cell_type": "code",
      "source": [
        "library(parallel)\n",
        "library(ggplot2)\n",
        "\n",
        "set.seed(123)  # For reproducibility\n",
        "\n",
        "# Start time\n",
        "start_time <- Sys.time()\n",
        "\n",
        "# Set up parallel execution\n",
        "n_cores <- detectCores() - 1  # Use one less than the number of available cores\n",
        "cl <- makeCluster(n_cores)\n",
        "\n",
        "# Export necessary objects and functions to the cluster\n",
        "clusterExport(cl, c(\"Q\", \"n_transitions\", \"initial_state\", \"states\", \"next_state\", \"holding_time\", \"simulate_markov_chain\"))\n",
        "\n",
        "# Use parLapply to execute the simulation function in parallel\n",
        "all_simulations <- parLapply(cl, 1:n_simulations, function(x) {\n",
        "  sim_result <- simulate_markov_chain(Q, n_transitions, initial_state)\n",
        "  sim_result$Simulation <- x  # Add a column to identify the simulation\n",
        "  return(sim_result)\n",
        "})\n",
        "\n",
        "# Stop the cluster\n",
        "stopCluster(cl)\n",
        "\n",
        "# Combine all simulations into a single data frame\n",
        "combined_results <- do.call(rbind, all_simulations)\n",
        "\n",
        "# End time\n",
        "end_time <- Sys.time()\n",
        "\n",
        "# Calculate and print runtime\n",
        "run_time <- end_time - start_time\n",
        "print(paste(\"Start time:\", start_time))\n",
        "print(paste(\"End time:\", end_time))\n",
        "print(paste(\"Run time:\", run_time))\n",
        "\n",
        "# Print the combined results summary\n",
        "summary(combined_results)"
      ],
      "metadata": {
        "colab": {
          "base_uri": "https://localhost:8080/",
          "height": 191
        },
        "id": "PQzuI0jhDflG",
        "outputId": "dae2a51f-d705-4d16-af97-8dbdd570150b"
      },
      "execution_count": 5,
      "outputs": [
        {
          "output_type": "stream",
          "name": "stdout",
          "text": [
            "[1] \"Start time: 2024-06-16 03:45:06.812621\"\n",
            "[1] \"End time: 2024-06-16 03:50:21.123162\"\n",
            "[1] \"Run time: 5.23850901126862\"\n"
          ]
        },
        {
          "output_type": "display_data",
          "data": {
            "text/plain": [
              "      Time            State         Simulation     \n",
              " Min.   : 0.000   Min.   :1.000   Min.   :      1  \n",
              " 1st Qu.: 0.000   1st Qu.:1.000   1st Qu.: 250199  \n",
              " Median : 1.486   Median :2.000   Median : 499987  \n",
              " Mean   : 3.234   Mean   :2.308   Mean   : 499998  \n",
              " 3rd Qu.: 4.736   3rd Qu.:4.000   3rd Qu.: 749741  \n",
              " Max.   :61.780   Max.   :4.000   Max.   :1000000  "
            ]
          },
          "metadata": {}
        }
      ]
    },
    {
      "cell_type": "markdown",
      "source": [
        "## 3. GPU accelerated with Tensorflow - not working"
      ],
      "metadata": {
        "id": "o19S7gAGJuSG"
      }
    },
    {
      "cell_type": "code",
      "source": [
        "devtools::install_github(\"rstudio/keras\")\n",
        "#install.packages(\"keras\")\n",
        "# reticulate: Reticulate: R Interface to Python\n",
        "# tfruns: Track and Visualize Training Runs\n",
        "# zeallot: multiple, unpacking, destructuring assignments w/ %<-% operator"
      ],
      "metadata": {
        "colab": {
          "base_uri": "https://localhost:8080/"
        },
        "id": "42QeOCdzMx8b",
        "outputId": "a2995857-33b7-4da1-ad98-517e16f052e1"
      },
      "execution_count": 18,
      "outputs": [
        {
          "output_type": "stream",
          "name": "stderr",
          "text": [
            "Downloading GitHub repo rstudio/keras@HEAD\n",
            "\n"
          ]
        },
        {
          "output_type": "stream",
          "name": "stdout",
          "text": [
            "rlang      (1.1.3  -> 1.1.4 ) [CRAN]\n",
            "backports  (1.4.1  -> 1.5.0 ) [CRAN]\n",
            "rstudioapi (0.15.0 -> 0.16.0) [CRAN]\n",
            "tidyselect (1.2.0  -> 1.2.1 ) [CRAN]\n",
            "whisker    (0.4    -> 0.4.1 ) [CRAN]\n",
            "processx   (3.8.3  -> 3.8.4 ) [CRAN]\n",
            "fastmap    (1.1.1  -> 1.2.0 ) [CRAN]\n"
          ]
        },
        {
          "output_type": "stream",
          "name": "stderr",
          "text": [
            "Installing 7 packages: rlang, backports, rstudioapi, tidyselect, whisker, processx, fastmap\n",
            "\n",
            "Installing packages into ‘/usr/local/lib/R/site-library’\n",
            "(as ‘lib’ is unspecified)\n",
            "\n"
          ]
        },
        {
          "output_type": "stream",
          "name": "stdout",
          "text": [
            "\u001b[36m──\u001b[39m \u001b[36mR CMD build\u001b[39m \u001b[36m─────────────────────────────────────────────────────────────────\u001b[39m\n",
            "* checking for file ‘/tmp/RtmpyHF7K8/remotes3a0480451b1/rstudio-keras3-fa07f20/DESCRIPTION’ ... OK\n",
            "* preparing ‘keras3’:\n",
            "* checking DESCRIPTION meta-information ... OK\n",
            "* checking for LF line-endings in source and make files and shell scripts\n",
            "* checking for empty or unneeded directories\n",
            "* building ‘keras3_1.0.0.9000.tar.gz’\n",
            "\n"
          ]
        },
        {
          "output_type": "stream",
          "name": "stderr",
          "text": [
            "Installing package into ‘/usr/local/lib/R/site-library’\n",
            "(as ‘lib’ is unspecified)\n",
            "\n"
          ]
        }
      ]
    },
    {
      "cell_type": "code",
      "source": [
        "install.packages(\"keras\")"
      ],
      "metadata": {
        "colab": {
          "base_uri": "https://localhost:8080/"
        },
        "id": "fXztbSXSOIS7",
        "outputId": "3d854edf-54bd-4bb9-e5d5-1d707abcc8ab"
      },
      "execution_count": 21,
      "outputs": [
        {
          "output_type": "stream",
          "name": "stderr",
          "text": [
            "Installing package into ‘/usr/local/lib/R/site-library’\n",
            "(as ‘lib’ is unspecified)\n",
            "\n"
          ]
        }
      ]
    },
    {
      "cell_type": "code",
      "source": [
        "# Define the rate (generator) matrix\n",
        "Q <- matrix(c(\n",
        "  0, 0.25, 0, 0.25,\n",
        "  0.166, 0, 0.166, 0.166,\n",
        "  0, 0.25, 0, 0.25,\n",
        "  0, 0, 0, 0),\n",
        "  nrow = 4, byrow = TRUE\n",
        ")\n",
        "\n",
        "# Convert Q to a TensorFlow constant\n",
        "Q_tf <- tf$constant(Q, dtype = tf$float32)\n",
        "\n",
        "# Function to choose the next state based on current state and rate matrix\n",
        "next_state <- function(current_state, Q_tf) {\n",
        "  rates <- Q_tf[current_state, ]\n",
        "  probs <- rates / tf$reduce_sum(rates)\n",
        "  sample <- tf$random$categorical(tf$log(tf$reshape(probs, shape = c(1, -1))), num_samples = 1)\n",
        "  return(tf$cast(sample, tf$int32) + 1L)\n",
        "}\n",
        "\n",
        "# Function to determine the holding time based on the current state\n",
        "holding_time <- function(current_state, Q_tf) {\n",
        "  rate <- tf$reduce_sum(Q_tf[current_state, ])\n",
        "  ht <- tf$random$exponential(shape = list(), rate = rate)\n",
        "  return(ht)\n",
        "}\n",
        "\n",
        "# Function to simulate a single Markov chain sequence\n",
        "simulate_markov_chain <- function(Q_tf, n_transitions, initial_state) {\n",
        "  current_state <- initial_state - 1L  # Adjust for 0-indexing in TensorFlow\n",
        "  current_time <- 0.0\n",
        "  sequence_of_states <- list(current_state)\n",
        "  transition_times <- list(current_time)\n",
        "\n",
        "  for (i in seq_len(n_transitions)) {\n",
        "    ht <- holding_time(current_state, Q_tf)\n",
        "    current_time <- current_time + ht\n",
        "    current_state <- next_state(current_state, Q_tf)\n",
        "\n",
        "    sequence_of_states <- c(sequence_of_states, current_state)\n",
        "    transition_times <- c(transition_times, current_time)\n",
        "  }\n",
        "\n",
        "  df <- data.frame(\n",
        "    Time = as.numeric(unlist(transition_times)),\n",
        "    State = as.integer(unlist(sequence_of_states)) + 1  # Adjust back to 1-indexing\n",
        "  )\n",
        "  return(df)\n",
        "}\n",
        "\n",
        "# Parameters\n",
        "n_simulations <- 1000000\n",
        "n_transitions <- 100\n",
        "initial_state <- 1\n",
        "\n",
        "# Start time\n",
        "start_time <- Sys.time()\n",
        "\n",
        "# Generate multiple series\n",
        "all_simulations <- vector(\"list\", n_simulations)\n",
        "for (i in seq_len(n_simulations)) {\n",
        "  all_simulations[[i]] <- simulate_markov_chain(Q_tf, n_transitions, initial_state)\n",
        "  all_simulations[[i]]$Simulation <- i\n",
        "}\n",
        "\n",
        "# Combine all simulations into a single data frame\n",
        "combined_results <- do.call(rbind, all_simulations)\n",
        "\n",
        "# End time\n",
        "end_time <- Sys.time()\n",
        "\n",
        "# Calculate and print runtime\n",
        "run_time <- end_time - start_time\n",
        "print(paste(\"Start time:\", start_time))\n",
        "print(paste(\"End time:\", end_time))\n",
        "print(paste(\"Run time:\", run_time))\n",
        "\n",
        "# Print the combined results summary\n",
        "summary(combined_results)\n",
        "\n",
        "# Plot the state sequences for all simulations\n",
        "# library(ggplot2)\n",
        "# ggplot(combined_results, aes(x = Time, y = State, color = factor(Simulation))) +\n",
        "#   geom_step() +\n",
        "#   labs(title = \"Multiple Continuous-Time Markov Chain Simulations\",\n",
        "#        x = \"Time\",\n",
        "#        y = \"State\",\n",
        "#        color = \"Simulation\") +\n",
        "#   theme_minimal()\n"
      ],
      "metadata": {
        "colab": {
          "base_uri": "https://localhost:8080/",
          "height": 1000
        },
        "id": "eFOn4LPaJ768",
        "outputId": "44a60451-f404-4216-ca63-2c8e6f778a78"
      },
      "execution_count": 19,
      "outputs": [
        {
          "output_type": "error",
          "ename": "ERROR",
          "evalue": "Error: Valid installation of TensorFlow not found.\n\nPython environments searched for 'tensorflow' package:\n /usr/bin/python3.10\n\nPython exception encountered:\n Traceback (most recent call last):\n  File \"/usr/local/lib/R/site-library/reticulate/python/rpytools/loader.py\", line 122, in _find_and_load_hook\n    return _run_hook(name, _hook)\n  File \"/usr/local/lib/R/site-library/reticulate/python/rpytools/loader.py\", line 96, in _run_hook\n    module = hook()\n  File \"/usr/local/lib/R/site-library/reticulate/python/rpytools/loader.py\", line 120, in _hook\n    return _find_and_load(name, import_)\nModuleNotFoundError: No module named 'tensorflow'\n\n\nYou can install TensorFlow using the install_tensorflow() function.\n\n",
          "traceback": [
            "Error: Valid installation of TensorFlow not found.\n\nPython environments searched for 'tensorflow' package:\n /usr/bin/python3.10\n\nPython exception encountered:\n Traceback (most recent call last):\n  File \"/usr/local/lib/R/site-library/reticulate/python/rpytools/loader.py\", line 122, in _find_and_load_hook\n    return _run_hook(name, _hook)\n  File \"/usr/local/lib/R/site-library/reticulate/python/rpytools/loader.py\", line 96, in _run_hook\n    module = hook()\n  File \"/usr/local/lib/R/site-library/reticulate/python/rpytools/loader.py\", line 120, in _hook\n    return _find_and_load(name, import_)\nModuleNotFoundError: No module named 'tensorflow'\n\n\nYou can install TensorFlow using the install_tensorflow() function.\n\nTraceback:\n",
            "1. tf$constant",
            "2. `$.python.builtin.module`(tf, constant)",
            "3. py_get_attr(x, name, TRUE)",
            "4. (function (proxy) \n . {\n .     if (!py_is_module_proxy(proxy)) \n .         return(FALSE)\n .     collect_value <- function(name, clear = TRUE) {\n .         if (exists(name, envir = proxy, inherits = FALSE)) {\n .             value <- get(name, envir = proxy, inherits = FALSE)\n .             if (clear) \n .                 remove(list = name, envir = proxy)\n .             value\n .         }\n .         else {\n .             NULL\n .         }\n .     }\n .     get_module <- collect_value(\"get_module\")\n .     if (!is.null(get_module)) \n .         assign(\"module\", get_module(), envir = proxy)\n .     module <- get(\"module\", envir = proxy)\n .     before_load <- collect_value(\"before_load\", clear = TRUE)\n .     if (is.function(before_load)) \n .         before_load()\n .     result <- tryCatch(import(module), error = clear_error_handler())\n .     if (inherits(result, \"error\")) {\n .         on_error <- collect_value(\"on_error\", clear = FALSE)\n .         if (!is.null(on_error)) {\n .             if (is.function(on_error)) \n .                 on_error(result)\n .             stop(\"Error loading Python module \", module, call. = FALSE)\n .         }\n .         else {\n .             message <- py_config_error_message(paste(\"Python module\", \n .                 module, \"was not found.\"))\n .             stop(message, call. = FALSE)\n .         }\n .     }\n .     collect_value(\"on_error\", clear = TRUE)\n .     .globals$delay_load_imports <- NULL\n .     py_module_proxy_import(proxy)\n .     on_load <- collect_value(\"on_load\", clear = TRUE)\n .     if (is.function(on_load)) \n .         on_load()\n .     TRUE\n . })(<environment>)",
            "5. on_error(result)",
            "6. stop(tf_config_error_message(), call. = FALSE)"
          ]
        }
      ]
    },
    {
      "cell_type": "markdown",
      "source": [
        "## 3. GPU accelerated with PyTorch: not working"
      ],
      "metadata": {
        "id": "nAtDBNJmKUAS"
      }
    },
    {
      "cell_type": "code",
      "source": [
        "# Install reticulate package to interface with Python\n",
        "install.packages(\"reticulate\")\n",
        "library(reticulate)\n",
        "\n",
        "# Use reticulate to interface with Python\n",
        "use_python(\"/usr/bin/python3\")  # Specify the path to your Python interpreter\n",
        "py_install(\"torch\", pip = TRUE)\n",
        "\n",
        "# Load the PyTorch library via reticulate\n",
        "torch <- import(\"torch\")\n",
        "\n",
        "# Define the rate (generator) matrix\n",
        "Q <- matrix(c(\n",
        "  0, 0.25, 0, 0.25,\n",
        "  0.166, 0, 0.166, 0.166,\n",
        "  0, 0.25, 0, 0.25,\n",
        "  0, 0, 0, 0),\n",
        "  nrow = 4, byrow = TRUE\n",
        ")\n",
        "\n",
        "# Convert Q to a PyTorch tensor and move to GPU\n",
        "Q_torch <- torch$from_numpy(Q)$float()$cuda()\n",
        "\n",
        "# Function to choose the next state based on current state and rate matrix\n",
        "next_state <- function(current_state, Q_torch) {\n",
        "  rates <- Q_torch[current_state, ]\n",
        "  probs <- rates / rates$sum()\n",
        "  sample <- torch$multinomial(probs, 1)\n",
        "  return(sample$item())\n",
        "}\n",
        "\n",
        "# Function to determine the holding time based on the current state\n",
        "holding_time <- function(current_state, Q_torch) {\n",
        "  rate <- Q_torch[current_state, ]$sum()\n",
        "  ht <- torch$distributions$Exponential(rate)$sample()\n",
        "  return(ht$item())\n",
        "}\n",
        "\n",
        "# Function to simulate a single Markov chain sequence\n",
        "simulate_markov_chain <- function(Q_torch, n_transitions, initial_state) {\n",
        "  current_state <- initial_state - 1  # Adjust for 0-indexing in PyTorch\n",
        "  current_time <- 0.0\n",
        "  sequence_of_states <- list(current_state)\n",
        "  transition_times <- list(current_time)\n",
        "\n",
        "  for (i in seq_len(n_transitions)) {\n",
        "    ht <- holding_time(current_state, Q_torch)\n",
        "    current_time <- current_time + ht\n",
        "    current_state <- next_state(current_state, Q_torch)\n",
        "\n",
        "    sequence_of_states <- c(sequence_of_states, current_state)\n",
        "    transition_times <- c(transition_times, current_time)\n",
        "  }\n",
        "\n",
        "  df <- data.frame(\n",
        "    Time = unlist(transition_times),\n",
        "    State = unlist(sequence_of_states) + 1  # Adjust back to 1-indexing\n",
        "  )\n",
        "  return(df)\n",
        "}\n",
        "\n",
        "# Parameters\n",
        "n_simulations <- 10\n",
        "n_transitions <- 100\n",
        "initial_state <- 1\n",
        "\n",
        "# Start time\n",
        "start_time <- Sys.time()\n",
        "\n",
        "# Generate multiple series\n",
        "all_simulations <- vector(\"list\", n_simulations)\n",
        "for (i in seq_len(n_simulations)) {\n",
        "  all_simulations[[i]] <- simulate_markov_chain(Q_torch, n_transitions, initial_state)\n",
        "  all_simulations[[i]]$Simulation <- i\n",
        "}\n",
        "\n",
        "# Combine all simulations into a single data frame\n",
        "combined_results <- do.call(rbind, all_simulations)\n",
        "\n",
        "# End time\n",
        "end_time <- Sys.time()\n",
        "\n",
        "# Calculate and print runtime\n",
        "run_time <- end_time - start_time\n",
        "print(paste(\"Run time:\", run_time))\n",
        "\n",
        "# Print the combined results summary\n",
        "summary(combined_results)\n",
        "\n",
        "# Plot the state sequences for all simulations\n",
        "library(ggplot2)\n",
        "ggplot(combined_results, aes(x = Time, y = State, color = factor(Simulation))) +\n",
        "  geom_step() +\n",
        "  labs(title = \"Multiple Continuous-Time Markov Chain Simulations\",\n",
        "       x = \"Time\",\n",
        "       y = \"State\",\n",
        "       color = \"Simulation\") +\n",
        "  theme_minimal()\n"
      ],
      "metadata": {
        "id": "4xSX0pUwKWFu"
      },
      "execution_count": null,
      "outputs": []
    },
    {
      "cell_type": "markdown",
      "source": [
        "## Visualization"
      ],
      "metadata": {
        "id": "hgqhuNYXKgmF"
      }
    }
  ]
}