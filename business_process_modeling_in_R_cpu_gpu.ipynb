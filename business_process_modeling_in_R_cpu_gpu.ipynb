{
  "nbformat": 4,
  "nbformat_minor": 0,
  "metadata": {
    "colab": {
      "provenance": [],
      "gpuType": "T4",
      "toc_visible": true,
      "authorship_tag": "ABX9TyNap2+9sBlwcNGeOJYNCSUz",
      "include_colab_link": true
    },
    "kernelspec": {
      "name": "ir",
      "display_name": "R"
    },
    "language_info": {
      "name": "R"
    },
    "accelerator": "GPU"
  },
  "cells": [
    {
      "cell_type": "markdown",
      "metadata": {
        "id": "view-in-github",
        "colab_type": "text"
      },
      "source": [
        "<a href=\"https://colab.research.google.com/github/casualcomputer/ml-stats-models/blob/main/business_process_modeling_in_R_cpu_gpu.ipynb\" target=\"_parent\"><img src=\"https://colab.research.google.com/assets/colab-badge.svg\" alt=\"Open In Colab\"/></a>"
      ]
    },
    {
      "cell_type": "markdown",
      "source": [
        "# Markov Modeling - Sampling from continous markov chain\n"
      ],
      "metadata": {
        "id": "A5cQIa9DBEy0"
      }
    },
    {
      "cell_type": "markdown",
      "source": [
        "## 1. No parallel programming in CPU"
      ],
      "metadata": {
        "id": "RP_VACOJDZNR"
      }
    },
    {
      "cell_type": "code",
      "execution_count": null,
      "metadata": {
        "colab": {
          "base_uri": "https://localhost:8080/",
          "height": 191
        },
        "id": "d76Dy9yEA-9E",
        "outputId": "5a61f7b6-cba9-418c-cf88-b4e4e6cf8cec"
      },
      "outputs": [
        {
          "output_type": "stream",
          "name": "stdout",
          "text": [
            "[1] \"Start time: 2024-06-16 03:39:34.692605\"\n",
            "[1] \"End time: 2024-06-16 03:45:06.328434\"\n",
            "[1] \"Run time: 5.52726381619771\"\n"
          ]
        },
        {
          "output_type": "display_data",
          "data": {
            "text/plain": [
              "      Time            State         Simulation     \n",
              " Min.   : 0.000   Min.   :1.000   Min.   :      1  \n",
              " 1st Qu.: 0.000   1st Qu.:1.000   1st Qu.: 249877  \n",
              " Median : 1.489   Median :2.000   Median : 499818  \n",
              " Mean   : 3.237   Mean   :2.308   Mean   : 499911  \n",
              " 3rd Qu.: 4.745   3rd Qu.:4.000   3rd Qu.: 749926  \n",
              " Max.   :63.556   Max.   :4.000   Max.   :1000000  "
            ]
          },
          "metadata": {}
        }
      ],
      "source": [
        "library(parallel)\n",
        "library(ggplot2)\n",
        "\n",
        "set.seed(123)  # For reproducibility\n",
        "\n",
        "# Define the rate (generator) matrix\n",
        "Q <- as.matrix(rbind(\n",
        "  c(0, 0.25, 0, 0.25),\n",
        "  c(0.166, 0, 0.166, 0.166),\n",
        "  c(0, 0.25, 0, 0.25),\n",
        "  c(0, 0, 0, 0)\n",
        "))\n",
        "\n",
        "# Define the state space\n",
        "states <- 1:nrow(Q)\n",
        "\n",
        "# Function to choose the next state based on current state and rate matrix\n",
        "next_state <- function(current_state, Q) {\n",
        "  rates <- Q[current_state, ]\n",
        "  if (sum(rates) == 0) {\n",
        "    return(current_state)  # Stay in the current state if no transitions are possible\n",
        "  }\n",
        "  probs <- rates / sum(rates)\n",
        "  return(sample(states, size = 1, prob = probs))\n",
        "}\n",
        "\n",
        "# Function to determine the holding time based on the current state\n",
        "holding_time <- function(current_state, Q) {\n",
        "  rate <- sum(Q[current_state, ])\n",
        "  if (rate == 0) {\n",
        "    return(Inf)  # Infinite holding time if no transitions are possible\n",
        "  }\n",
        "  return(rexp(1, rate = rate))\n",
        "}\n",
        "\n",
        "# Function to simulate a single Markov chain sequence\n",
        "simulate_markov_chain <- function(Q, n_transitions, initial_state) {\n",
        "  current_state <- initial_state\n",
        "  current_time <- 0\n",
        "  sequence_of_states <- c(current_state)\n",
        "  transition_times <- c(current_time)\n",
        "\n",
        "  for (i in 1:n_transitions) {\n",
        "    ht <- holding_time(current_state, Q)\n",
        "    if (ht == Inf) {\n",
        "      break  # Stop if holding time is infinite\n",
        "    }\n",
        "    current_time <- current_time + ht\n",
        "    current_state <- next_state(current_state, Q)\n",
        "\n",
        "    sequence_of_states <- c(sequence_of_states, current_state)\n",
        "    transition_times <- c(transition_times, current_time)\n",
        "  }\n",
        "\n",
        "  return(data.frame(Time = transition_times, State = sequence_of_states))\n",
        "}\n",
        "\n",
        "# Parameters\n",
        "n_simulations <- 1000000\n",
        "n_transitions <- 100\n",
        "initial_state <- 1\n",
        "\n",
        "# Start time\n",
        "start_time <- Sys.time()\n",
        "\n",
        "# List to store results of all simulations\n",
        "all_simulations <- list()\n",
        "\n",
        "# Generate multiple series\n",
        "for (i in 1:n_simulations) {\n",
        "  sim_result <- simulate_markov_chain(Q, n_transitions, initial_state)\n",
        "  sim_result$Simulation <- i  # Add a column to identify the simulation\n",
        "  all_simulations[[i]] <- sim_result\n",
        "}\n",
        "\n",
        "# Combine all simulations into a single data frame\n",
        "combined_results <- do.call(rbind, all_simulations)\n",
        "\n",
        "# End time\n",
        "end_time <- Sys.time()\n",
        "\n",
        "# Calculate and print runtime\n",
        "run_time <- end_time - start_time\n",
        "print(paste(\"Start time:\", start_time))\n",
        "print(paste(\"End time:\", end_time))\n",
        "print(paste(\"Run time:\", run_time))\n",
        "\n",
        "# Print the combined results summary\n",
        "summary(combined_results)\n",
        "\n",
        "# Plot the state sequences for all simulations\n",
        "# library(ggplot2)\n",
        "# ggplot(combined_results, aes(x = Time, y = State, color = factor(Simulation))) +\n",
        "#   geom_step() +\n",
        "#   labs(title = \"Multiple Continuous-Time Markov Chain Simulations\",\n",
        "#        x = \"Time\",\n",
        "#        y = \"State\",\n",
        "#        color = \"Simulation\") +\n",
        "#   theme_minimal()"
      ]
    },
    {
      "cell_type": "markdown",
      "source": [
        "## 2. Parallel programming in CPU"
      ],
      "metadata": {
        "id": "KuK93Cm-DdMP"
      }
    },
    {
      "cell_type": "code",
      "source": [
        "library(parallel)\n",
        "library(ggplot2)\n",
        "\n",
        "set.seed(123)  # For reproducibility\n",
        "\n",
        "# Start time\n",
        "start_time <- Sys.time()\n",
        "\n",
        "# Set up parallel execution\n",
        "n_cores <- detectCores() - 1  # Use one less than the number of available cores\n",
        "cl <- makeCluster(n_cores)\n",
        "\n",
        "# Export necessary objects and functions to the cluster\n",
        "clusterExport(cl, c(\"Q\", \"n_transitions\", \"initial_state\", \"states\", \"next_state\", \"holding_time\", \"simulate_markov_chain\"))\n",
        "\n",
        "# Use parLapply to execute the simulation function in parallel\n",
        "all_simulations <- parLapply(cl, 1:n_simulations, function(x) {\n",
        "  sim_result <- simulate_markov_chain(Q, n_transitions, initial_state)\n",
        "  sim_result$Simulation <- x  # Add a column to identify the simulation\n",
        "  return(sim_result)\n",
        "})\n",
        "\n",
        "# Stop the cluster\n",
        "stopCluster(cl)\n",
        "\n",
        "# Combine all simulations into a single data frame\n",
        "combined_results <- do.call(rbind, all_simulations)\n",
        "\n",
        "# End time\n",
        "end_time <- Sys.time()\n",
        "\n",
        "# Calculate and print runtime\n",
        "run_time <- end_time - start_time\n",
        "print(paste(\"Start time:\", start_time))\n",
        "print(paste(\"End time:\", end_time))\n",
        "print(paste(\"Run time:\", run_time))\n",
        "\n",
        "# Print the combined results summary\n",
        "summary(combined_results)"
      ],
      "metadata": {
        "colab": {
          "base_uri": "https://localhost:8080/",
          "height": 191
        },
        "id": "PQzuI0jhDflG",
        "outputId": "dae2a51f-d705-4d16-af97-8dbdd570150b"
      },
      "execution_count": null,
      "outputs": [
        {
          "output_type": "stream",
          "name": "stdout",
          "text": [
            "[1] \"Start time: 2024-06-16 03:45:06.812621\"\n",
            "[1] \"End time: 2024-06-16 03:50:21.123162\"\n",
            "[1] \"Run time: 5.23850901126862\"\n"
          ]
        },
        {
          "output_type": "display_data",
          "data": {
            "text/plain": [
              "      Time            State         Simulation     \n",
              " Min.   : 0.000   Min.   :1.000   Min.   :      1  \n",
              " 1st Qu.: 0.000   1st Qu.:1.000   1st Qu.: 250199  \n",
              " Median : 1.486   Median :2.000   Median : 499987  \n",
              " Mean   : 3.234   Mean   :2.308   Mean   : 499998  \n",
              " 3rd Qu.: 4.736   3rd Qu.:4.000   3rd Qu.: 749741  \n",
              " Max.   :61.780   Max.   :4.000   Max.   :1000000  "
            ]
          },
          "metadata": {}
        }
      ]
    },
    {
      "cell_type": "markdown",
      "source": [
        "## 3. GPU accelerated with Tensorflow - not working"
      ],
      "metadata": {
        "id": "o19S7gAGJuSG"
      }
    },
    {
      "cell_type": "code",
      "source": [
        "devtools::install_github(\"rstudio/keras\")\n",
        "#install.packages(\"keras\")\n",
        "# reticulate: Reticulate: R Interface to Python\n",
        "# tfruns: Track and Visualize Training Runs\n",
        "# zeallot: multiple, unpacking, destructuring assignments w/ %<-% operator"
      ],
      "metadata": {
        "colab": {
          "base_uri": "https://localhost:8080/"
        },
        "id": "42QeOCdzMx8b",
        "outputId": "a2995857-33b7-4da1-ad98-517e16f052e1"
      },
      "execution_count": null,
      "outputs": [
        {
          "output_type": "stream",
          "name": "stderr",
          "text": [
            "Downloading GitHub repo rstudio/keras@HEAD\n",
            "\n"
          ]
        },
        {
          "output_type": "stream",
          "name": "stdout",
          "text": [
            "rlang      (1.1.3  -> 1.1.4 ) [CRAN]\n",
            "backports  (1.4.1  -> 1.5.0 ) [CRAN]\n",
            "rstudioapi (0.15.0 -> 0.16.0) [CRAN]\n",
            "tidyselect (1.2.0  -> 1.2.1 ) [CRAN]\n",
            "whisker    (0.4    -> 0.4.1 ) [CRAN]\n",
            "processx   (3.8.3  -> 3.8.4 ) [CRAN]\n",
            "fastmap    (1.1.1  -> 1.2.0 ) [CRAN]\n"
          ]
        },
        {
          "output_type": "stream",
          "name": "stderr",
          "text": [
            "Installing 7 packages: rlang, backports, rstudioapi, tidyselect, whisker, processx, fastmap\n",
            "\n",
            "Installing packages into ‘/usr/local/lib/R/site-library’\n",
            "(as ‘lib’ is unspecified)\n",
            "\n"
          ]
        },
        {
          "output_type": "stream",
          "name": "stdout",
          "text": [
            "\u001b[36m──\u001b[39m \u001b[36mR CMD build\u001b[39m \u001b[36m─────────────────────────────────────────────────────────────────\u001b[39m\n",
            "* checking for file ‘/tmp/RtmpyHF7K8/remotes3a0480451b1/rstudio-keras3-fa07f20/DESCRIPTION’ ... OK\n",
            "* preparing ‘keras3’:\n",
            "* checking DESCRIPTION meta-information ... OK\n",
            "* checking for LF line-endings in source and make files and shell scripts\n",
            "* checking for empty or unneeded directories\n",
            "* building ‘keras3_1.0.0.9000.tar.gz’\n",
            "\n"
          ]
        },
        {
          "output_type": "stream",
          "name": "stderr",
          "text": [
            "Installing package into ‘/usr/local/lib/R/site-library’\n",
            "(as ‘lib’ is unspecified)\n",
            "\n"
          ]
        }
      ]
    },
    {
      "cell_type": "code",
      "source": [
        "install.packages(\"keras\")"
      ],
      "metadata": {
        "colab": {
          "base_uri": "https://localhost:8080/"
        },
        "id": "fXztbSXSOIS7",
        "outputId": "3d854edf-54bd-4bb9-e5d5-1d707abcc8ab"
      },
      "execution_count": null,
      "outputs": [
        {
          "output_type": "stream",
          "name": "stderr",
          "text": [
            "Installing package into ‘/usr/local/lib/R/site-library’\n",
            "(as ‘lib’ is unspecified)\n",
            "\n"
          ]
        }
      ]
    },
    {
      "cell_type": "code",
      "source": [
        "# Define the rate (generator) matrix\n",
        "Q <- matrix(c(\n",
        "  0, 0.25, 0, 0.25,\n",
        "  0.166, 0, 0.166, 0.166,\n",
        "  0, 0.25, 0, 0.25,\n",
        "  0, 0, 0, 0),\n",
        "  nrow = 4, byrow = TRUE\n",
        ")\n",
        "\n",
        "# Convert Q to a TensorFlow constant\n",
        "Q_tf <- tf$constant(Q, dtype = tf$float32)\n",
        "\n",
        "# Function to choose the next state based on current state and rate matrix\n",
        "next_state <- function(current_state, Q_tf) {\n",
        "  rates <- Q_tf[current_state, ]\n",
        "  probs <- rates / tf$reduce_sum(rates)\n",
        "  sample <- tf$random$categorical(tf$log(tf$reshape(probs, shape = c(1, -1))), num_samples = 1)\n",
        "  return(tf$cast(sample, tf$int32) + 1L)\n",
        "}\n",
        "\n",
        "# Function to determine the holding time based on the current state\n",
        "holding_time <- function(current_state, Q_tf) {\n",
        "  rate <- tf$reduce_sum(Q_tf[current_state, ])\n",
        "  ht <- tf$random$exponential(shape = list(), rate = rate)\n",
        "  return(ht)\n",
        "}\n",
        "\n",
        "# Function to simulate a single Markov chain sequence\n",
        "simulate_markov_chain <- function(Q_tf, n_transitions, initial_state) {\n",
        "  current_state <- initial_state - 1L  # Adjust for 0-indexing in TensorFlow\n",
        "  current_time <- 0.0\n",
        "  sequence_of_states <- list(current_state)\n",
        "  transition_times <- list(current_time)\n",
        "\n",
        "  for (i in seq_len(n_transitions)) {\n",
        "    ht <- holding_time(current_state, Q_tf)\n",
        "    current_time <- current_time + ht\n",
        "    current_state <- next_state(current_state, Q_tf)\n",
        "\n",
        "    sequence_of_states <- c(sequence_of_states, current_state)\n",
        "    transition_times <- c(transition_times, current_time)\n",
        "  }\n",
        "\n",
        "  df <- data.frame(\n",
        "    Time = as.numeric(unlist(transition_times)),\n",
        "    State = as.integer(unlist(sequence_of_states)) + 1  # Adjust back to 1-indexing\n",
        "  )\n",
        "  return(df)\n",
        "}\n",
        "\n",
        "# Parameters\n",
        "n_simulations <- 1000000\n",
        "n_transitions <- 100\n",
        "initial_state <- 1\n",
        "\n",
        "# Start time\n",
        "start_time <- Sys.time()\n",
        "\n",
        "# Generate multiple series\n",
        "all_simulations <- vector(\"list\", n_simulations)\n",
        "for (i in seq_len(n_simulations)) {\n",
        "  all_simulations[[i]] <- simulate_markov_chain(Q_tf, n_transitions, initial_state)\n",
        "  all_simulations[[i]]$Simulation <- i\n",
        "}\n",
        "\n",
        "# Combine all simulations into a single data frame\n",
        "combined_results <- do.call(rbind, all_simulations)\n",
        "\n",
        "# End time\n",
        "end_time <- Sys.time()\n",
        "\n",
        "# Calculate and print runtime\n",
        "run_time <- end_time - start_time\n",
        "print(paste(\"Start time:\", start_time))\n",
        "print(paste(\"End time:\", end_time))\n",
        "print(paste(\"Run time:\", run_time))\n",
        "\n",
        "# Print the combined results summary\n",
        "summary(combined_results)\n",
        "\n",
        "# Plot the state sequences for all simulations\n",
        "# library(ggplot2)\n",
        "# ggplot(combined_results, aes(x = Time, y = State, color = factor(Simulation))) +\n",
        "#   geom_step() +\n",
        "#   labs(title = \"Multiple Continuous-Time Markov Chain Simulations\",\n",
        "#        x = \"Time\",\n",
        "#        y = \"State\",\n",
        "#        color = \"Simulation\") +\n",
        "#   theme_minimal()\n"
      ],
      "metadata": {
        "colab": {
          "base_uri": "https://localhost:8080/",
          "height": 1000
        },
        "id": "eFOn4LPaJ768",
        "outputId": "44a60451-f404-4216-ca63-2c8e6f778a78"
      },
      "execution_count": null,
      "outputs": [
        {
          "output_type": "error",
          "ename": "ERROR",
          "evalue": "Error: Valid installation of TensorFlow not found.\n\nPython environments searched for 'tensorflow' package:\n /usr/bin/python3.10\n\nPython exception encountered:\n Traceback (most recent call last):\n  File \"/usr/local/lib/R/site-library/reticulate/python/rpytools/loader.py\", line 122, in _find_and_load_hook\n    return _run_hook(name, _hook)\n  File \"/usr/local/lib/R/site-library/reticulate/python/rpytools/loader.py\", line 96, in _run_hook\n    module = hook()\n  File \"/usr/local/lib/R/site-library/reticulate/python/rpytools/loader.py\", line 120, in _hook\n    return _find_and_load(name, import_)\nModuleNotFoundError: No module named 'tensorflow'\n\n\nYou can install TensorFlow using the install_tensorflow() function.\n\n",
          "traceback": [
            "Error: Valid installation of TensorFlow not found.\n\nPython environments searched for 'tensorflow' package:\n /usr/bin/python3.10\n\nPython exception encountered:\n Traceback (most recent call last):\n  File \"/usr/local/lib/R/site-library/reticulate/python/rpytools/loader.py\", line 122, in _find_and_load_hook\n    return _run_hook(name, _hook)\n  File \"/usr/local/lib/R/site-library/reticulate/python/rpytools/loader.py\", line 96, in _run_hook\n    module = hook()\n  File \"/usr/local/lib/R/site-library/reticulate/python/rpytools/loader.py\", line 120, in _hook\n    return _find_and_load(name, import_)\nModuleNotFoundError: No module named 'tensorflow'\n\n\nYou can install TensorFlow using the install_tensorflow() function.\n\nTraceback:\n",
            "1. tf$constant",
            "2. `$.python.builtin.module`(tf, constant)",
            "3. py_get_attr(x, name, TRUE)",
            "4. (function (proxy) \n . {\n .     if (!py_is_module_proxy(proxy)) \n .         return(FALSE)\n .     collect_value <- function(name, clear = TRUE) {\n .         if (exists(name, envir = proxy, inherits = FALSE)) {\n .             value <- get(name, envir = proxy, inherits = FALSE)\n .             if (clear) \n .                 remove(list = name, envir = proxy)\n .             value\n .         }\n .         else {\n .             NULL\n .         }\n .     }\n .     get_module <- collect_value(\"get_module\")\n .     if (!is.null(get_module)) \n .         assign(\"module\", get_module(), envir = proxy)\n .     module <- get(\"module\", envir = proxy)\n .     before_load <- collect_value(\"before_load\", clear = TRUE)\n .     if (is.function(before_load)) \n .         before_load()\n .     result <- tryCatch(import(module), error = clear_error_handler())\n .     if (inherits(result, \"error\")) {\n .         on_error <- collect_value(\"on_error\", clear = FALSE)\n .         if (!is.null(on_error)) {\n .             if (is.function(on_error)) \n .                 on_error(result)\n .             stop(\"Error loading Python module \", module, call. = FALSE)\n .         }\n .         else {\n .             message <- py_config_error_message(paste(\"Python module\", \n .                 module, \"was not found.\"))\n .             stop(message, call. = FALSE)\n .         }\n .     }\n .     collect_value(\"on_error\", clear = TRUE)\n .     .globals$delay_load_imports <- NULL\n .     py_module_proxy_import(proxy)\n .     on_load <- collect_value(\"on_load\", clear = TRUE)\n .     if (is.function(on_load)) \n .         on_load()\n .     TRUE\n . })(<environment>)",
            "5. on_error(result)",
            "6. stop(tf_config_error_message(), call. = FALSE)"
          ]
        }
      ]
    },
    {
      "cell_type": "markdown",
      "source": [
        "## 3. GPU accelerated with PyTorch: not working"
      ],
      "metadata": {
        "id": "nAtDBNJmKUAS"
      }
    },
    {
      "cell_type": "code",
      "source": [
        "# Install reticulate package to interface with Python\n",
        "install.packages(\"reticulate\")\n",
        "library(reticulate)\n",
        "\n",
        "# Use reticulate to interface with Python\n",
        "use_python(\"/usr/bin/python3\")  # Specify the path to your Python interpreter\n",
        "py_install(\"torch\", pip = TRUE)\n",
        "\n",
        "# Load the PyTorch library via reticulate\n",
        "torch <- import(\"torch\")\n",
        "\n",
        "# Define the rate (generator) matrix\n",
        "Q <- matrix(c(\n",
        "  0, 0.25, 0, 0.25,\n",
        "  0.166, 0, 0.166, 0.166,\n",
        "  0, 0.25, 0, 0.25,\n",
        "  0, 0, 0, 0),\n",
        "  nrow = 4, byrow = TRUE\n",
        ")\n",
        "\n",
        "# Convert Q to a PyTorch tensor and move to GPU\n",
        "Q_torch <- torch$from_numpy(Q)$float()$cuda()\n",
        "\n",
        "# Function to choose the next state based on current state and rate matrix\n",
        "next_state <- function(current_state, Q_torch) {\n",
        "  rates <- Q_torch[current_state, ]\n",
        "  probs <- rates / rates$sum()\n",
        "  sample <- torch$multinomial(probs, 1)\n",
        "  return(sample$item())\n",
        "}\n",
        "\n",
        "# Function to determine the holding time based on the current state\n",
        "holding_time <- function(current_state, Q_torch) {\n",
        "  rate <- Q_torch[current_state, ]$sum()\n",
        "  ht <- torch$distributions$Exponential(rate)$sample()\n",
        "  return(ht$item())\n",
        "}\n",
        "\n",
        "# Function to simulate a single Markov chain sequence\n",
        "simulate_markov_chain <- function(Q_torch, n_transitions, initial_state) {\n",
        "  current_state <- initial_state - 1  # Adjust for 0-indexing in PyTorch\n",
        "  current_time <- 0.0\n",
        "  sequence_of_states <- list(current_state)\n",
        "  transition_times <- list(current_time)\n",
        "\n",
        "  for (i in seq_len(n_transitions)) {\n",
        "    ht <- holding_time(current_state, Q_torch)\n",
        "    current_time <- current_time + ht\n",
        "    current_state <- next_state(current_state, Q_torch)\n",
        "\n",
        "    sequence_of_states <- c(sequence_of_states, current_state)\n",
        "    transition_times <- c(transition_times, current_time)\n",
        "  }\n",
        "\n",
        "  df <- data.frame(\n",
        "    Time = unlist(transition_times),\n",
        "    State = unlist(sequence_of_states) + 1  # Adjust back to 1-indexing\n",
        "  )\n",
        "  return(df)\n",
        "}\n",
        "\n",
        "# Parameters\n",
        "n_simulations <- 10\n",
        "n_transitions <- 100\n",
        "initial_state <- 1\n",
        "\n",
        "# Start time\n",
        "start_time <- Sys.time()\n",
        "\n",
        "# Generate multiple series\n",
        "all_simulations <- vector(\"list\", n_simulations)\n",
        "for (i in seq_len(n_simulations)) {\n",
        "  all_simulations[[i]] <- simulate_markov_chain(Q_torch, n_transitions, initial_state)\n",
        "  all_simulations[[i]]$Simulation <- i\n",
        "}\n",
        "\n",
        "# Combine all simulations into a single data frame\n",
        "combined_results <- do.call(rbind, all_simulations)\n",
        "\n",
        "# End time\n",
        "end_time <- Sys.time()\n",
        "\n",
        "# Calculate and print runtime\n",
        "run_time <- end_time - start_time\n",
        "print(paste(\"Run time:\", run_time))\n",
        "\n",
        "# Print the combined results summary\n",
        "summary(combined_results)\n",
        "\n",
        "# Plot the state sequences for all simulations\n",
        "library(ggplot2)\n",
        "ggplot(combined_results, aes(x = Time, y = State, color = factor(Simulation))) +\n",
        "  geom_step() +\n",
        "  labs(title = \"Multiple Continuous-Time Markov Chain Simulations\",\n",
        "       x = \"Time\",\n",
        "       y = \"State\",\n",
        "       color = \"Simulation\") +\n",
        "  theme_minimal()\n"
      ],
      "metadata": {
        "id": "4xSX0pUwKWFu"
      },
      "execution_count": null,
      "outputs": []
    },
    {
      "cell_type": "markdown",
      "source": [
        "# Modeling business process using Markov Chains"
      ],
      "metadata": {
        "id": "hgqhuNYXKgmF"
      }
    },
    {
      "cell_type": "markdown",
      "source": [
        "## visNetwork (not working)"
      ],
      "metadata": {
        "id": "ND-yv2p6p9j-"
      }
    },
    {
      "cell_type": "code",
      "source": [
        "set.seed(123)  # For reproducibility\n",
        "\n",
        "# Define the rate (generator) matrix\n",
        "Q <- as.matrix(rbind(\n",
        "  c(0, 0.25, 0, 0.25),\n",
        "  c(0.166, 0, 0.166, 0.166),\n",
        "  c(0, 0.25, 0, 0.25),\n",
        "  c(0, 0, 0, 0)\n",
        "))\n",
        "\n",
        "# Define the state space\n",
        "states <- 1:nrow(Q)\n",
        "\n",
        "# Function to choose the next state based on current state and rate matrix\n",
        "next_state <- function(current_state, Q) {\n",
        "  rates <- Q[current_state, ]\n",
        "  if (sum(rates) == 0) {\n",
        "    return(current_state)  # Stay in the current state if no transitions are possible\n",
        "  }\n",
        "  probs <- rates / sum(rates)\n",
        "  return(sample(states, size = 1, prob = probs))\n",
        "}\n",
        "\n",
        "# Function to determine the holding time based on the current state\n",
        "holding_time <- function(current_state, Q) {\n",
        "  rate <- sum(Q[current_state, ])\n",
        "  if (rate == 0) {\n",
        "    return(Inf)  # Infinite holding time if no transitions are possible\n",
        "  }\n",
        "  return(rexp(1, rate = rate))\n",
        "}\n",
        "\n",
        "# Function to simulate a single Markov chain sequence\n",
        "simulate_markov_chain <- function(Q, n_transitions, initial_state) {\n",
        "  current_state <- initial_state\n",
        "  current_time <- 0\n",
        "  sequence_of_states <- c(current_state)\n",
        "  transition_times <- c(current_time)\n",
        "\n",
        "  for (i in 1:n_transitions) {\n",
        "    ht <- holding_time(current_state, Q)\n",
        "    if (ht == Inf) {\n",
        "      break  # Stop if holding time is infinite\n",
        "    }\n",
        "    current_time <- current_time + ht\n",
        "    current_state <- next_state(current_state, Q)\n",
        "\n",
        "    sequence_of_states <- c(sequence_of_states, current_state)\n",
        "    transition_times <- c(transition_times, current_time)\n",
        "  }\n",
        "\n",
        "  return(data.frame(Time = transition_times, State = sequence_of_states))\n",
        "}\n",
        "\n",
        "# Parameters\n",
        "n_simulations <- 1000\n",
        "n_transitions <- 100\n",
        "initial_state <- 1\n",
        "\n",
        "# List to store results of all simulations\n",
        "all_simulations <- list()\n",
        "\n",
        "# Generate multiple series\n",
        "for (i in 1:n_simulations) {\n",
        "  sim_result <- simulate_markov_chain(Q, n_transitions, initial_state)\n",
        "  sim_result$Simulation <- i  # Add a column to identify the simulation\n",
        "  all_simulations[[i]] <- sim_result\n",
        "}\n",
        "\n",
        "# Combine all simulations into a single data frame\n",
        "combined_results <- do.call(rbind, all_simulations)\n",
        "\n",
        "# Create an edgelist with average holding times and transition frequencies\n",
        "library(dplyr)\n",
        "\n",
        "# Generate the transition times correctly\n",
        "combined_results <- combined_results %>%\n",
        "  group_by(Simulation) %>%\n",
        "  mutate(NextState = lead(State),\n",
        "         NextTime = lead(Time)) %>%\n",
        "  filter(!is.na(NextState))\n",
        "\n",
        "edges <- combined_results %>%\n",
        "  group_by(State, NextState) %>%\n",
        "  summarize(AverageTime = mean(NextTime - Time), Transitions = n(), .groups = 'drop')\n",
        "\n",
        "# Calculate transition probabilities\n",
        "total_transitions <- sum(edges$Transitions)\n",
        "edges <- edges %>%\n",
        "  mutate(Probability = Transitions / total_transitions)\n",
        "\n",
        "# Calculate average holding time per state\n",
        "node_list <- combined_results %>%\n",
        "  group_by(State) %>%\n",
        "  summarize(AverageHoldingTime = mean(NextTime - Time, na.rm = TRUE), .groups = 'drop')\n",
        "\n",
        "# Visualize the process map using visNetwork\n",
        "library(visNetwork)\n",
        "\n",
        "nodes <- data.frame(\n",
        "  id = states,\n",
        "  label = paste(\"State\", states),\n",
        "  value = node_list$AverageHoldingTime[match(states, node_list$State)],  # Node size based on holding time\n",
        "  shape = \"ellipse\"\n",
        ")\n",
        "\n",
        "edges <- data.frame(\n",
        "  from = edges$State,\n",
        "  to = edges$NextState,\n",
        "  label = paste0(\"Time: \", round(edges$AverageTime, 2),\n",
        "                 \"\\nProb: \", round(edges$Probability, 2)),\n",
        "  value = edges$Transitions,  # Edge darkness based on transition frequency\n",
        "  arrows = \"to\"\n",
        ")\n",
        "\n",
        "print(edges)\n",
        "\n",
        "visNetwork(nodes, edges) %>%\n",
        "  visEdges(arrows = \"to\",\n",
        "           color = list(color = \"lightblue\", highlight = \"red\"),\n",
        "           scaling = list(label = list(enabled = TRUE), min = 1, max = 5)) %>%\n",
        "  visNodes(scaling = list(label = list(enabled = TRUE), min = 10, max = 50)) %>%\n",
        "  visOptions(highlightNearest = TRUE) %>%\n",
        "  visInteraction(navigationButtons = TRUE) %>%\n",
        "  visPhysics(stabilization = FALSE)"
      ],
      "metadata": {
        "colab": {
          "base_uri": "https://localhost:8080/"
        },
        "id": "BKzdZ9nNaoIv",
        "outputId": "c046603f-5756-42d0-97c1-df8b989b62e0"
      },
      "execution_count": 10,
      "outputs": [
        {
          "output_type": "stream",
          "name": "stdout",
          "text": [
            "  from to                  label value arrows\n",
            "1    1  2 Time: 2.01\\nProb: 0.29   658     to\n",
            "2    1  4 Time: 1.94\\nProb: 0.27   601     to\n",
            "3    2  1 Time: 1.99\\nProb: 0.11   259     to\n",
            "4    2  3  Time: 1.92\\nProb: 0.1   225     to\n",
            "5    2  4 Time: 1.97\\nProb: 0.13   294     to\n",
            "6    3  2 Time: 2.08\\nProb: 0.05   120     to\n",
            "7    3  4 Time: 2.13\\nProb: 0.05   105     to\n"
          ]
        }
      ]
    },
    {
      "cell_type": "markdown",
      "source": [
        "## igraph: the most frequent transitions visually (% of total transitions)"
      ],
      "metadata": {
        "id": "gWYjnDoIqCQT"
      }
    },
    {
      "cell_type": "code",
      "source": [
        "library(igraph)\n",
        "library(dplyr)\n",
        "\n",
        "set.seed(123)  # For reproducibility\n",
        "\n",
        "# Define the rate (generator) matrix\n",
        "Q <- as.matrix(rbind(\n",
        "  c(0, 0.25, 0, 0.25),\n",
        "  c(0.166, 0, 0.166, 0.166),\n",
        "  c(0, 0.25, 0, 0.25),\n",
        "  c(0, 0, 0, 0)\n",
        "))\n",
        "\n",
        "# Define the state space\n",
        "states <- 1:nrow(Q)\n",
        "\n",
        "# Function to choose the next state based on current state and rate matrix\n",
        "next_state <- function(current_state, Q) {\n",
        "  rates <- Q[current_state, ]\n",
        "  if (sum(rates) == 0) {\n",
        "    return(current_state)  # Stay in the current state if no transitions are possible\n",
        "  }\n",
        "  probs <- rates / sum(rates)\n",
        "  return(sample(states, size = 1, prob = probs))\n",
        "}\n",
        "\n",
        "# Function to determine the holding time based on the current state\n",
        "holding_time <- function(current_state, Q) {\n",
        "  rate <- sum(Q[current_state, ])\n",
        "  if (rate == 0) {\n",
        "    return(Inf)  # Infinite holding time if no transitions are possible\n",
        "  }\n",
        "  return(rexp(1, rate = rate))\n",
        "}\n",
        "\n",
        "# Function to simulate a single Markov chain sequence\n",
        "simulate_markov_chain <- function(Q, n_transitions, initial_state) {\n",
        "  current_state <- initial_state\n",
        "  current_time <- 0\n",
        "  sequence_of_states <- c(current_state)\n",
        "  transition_times <- c(current_time)\n",
        "\n",
        "  for (i in 1:n_transitions) {\n",
        "    ht <- holding_time(current_state, Q)\n",
        "    if (ht == Inf) {\n",
        "      break  # Stop if holding time is infinite\n",
        "    }\n",
        "    current_time <- current_time + ht\n",
        "    current_state <- next_state(current_state, Q)\n",
        "\n",
        "    sequence_of_states <- c(sequence_of_states, current_state)\n",
        "    transition_times <- c(transition_times, current_time)\n",
        "  }\n",
        "\n",
        "  return(data.frame(Time = transition_times, State = sequence_of_states))\n",
        "}\n",
        "\n",
        "# Parameters\n",
        "n_simulations <- 1000\n",
        "n_transitions <- 100\n",
        "initial_state <- 1\n",
        "\n",
        "# List to store results of all simulations\n",
        "all_simulations <- list()\n",
        "\n",
        "# Generate multiple series\n",
        "for (i in 1:n_simulations) {\n",
        "  sim_result <- simulate_markov_chain(Q, n_transitions, initial_state)\n",
        "  sim_result$Simulation <- i  # Add a column to identify the simulation\n",
        "  all_simulations[[i]] <- sim_result\n",
        "}\n",
        "\n",
        "# Combine all simulations into a single data frame\n",
        "combined_results <- do.call(rbind, all_simulations)\n",
        "\n",
        "# Create an edgelist with average holding times and transition frequencies\n",
        "\n",
        "# Generate the transition times correctly\n",
        "combined_results <- combined_results %>%\n",
        "  group_by(Simulation) %>%\n",
        "  mutate(NextState = lead(State),\n",
        "         NextTime = lead(Time)) %>%\n",
        "  filter(!is.na(NextState))\n",
        "\n",
        "edges <- combined_results %>%\n",
        "  group_by(State, NextState) %>%\n",
        "  summarize(AverageTime = mean(NextTime - Time), Transitions = n(), .groups = 'drop')\n",
        "\n",
        "# Calculate transition probabilities\n",
        "total_transitions <- sum(edges$Transitions)\n",
        "edges <- edges %>%\n",
        "  mutate(Probability = Transitions / total_transitions)\n",
        "\n",
        "# Calculate average holding time per state\n",
        "node_list <- combined_results %>%\n",
        "  group_by(State) %>%\n",
        "  summarize(AverageHoldingTime = mean(diff(Time)), .groups = 'drop')\n",
        "\n",
        "# Create a unified vertex list from both State and NextState\n",
        "unique_states <- unique(c(edges$State, edges$NextState))\n",
        "vertex_list <- data.frame(State = unique_states) %>%\n",
        "  left_join(node_list, by = c(\"State\" = \"State\")) %>%\n",
        "  mutate(AverageHoldingTime = ifelse(is.na(AverageHoldingTime), 0, AverageHoldingTime))\n",
        "\n",
        "# Create a graph using igraph\n",
        "\n",
        "# Create igraph object\n",
        "g <- graph_from_data_frame(d = edges, vertices = vertex_list, directed = TRUE)\n",
        "\n",
        "# Set vertex size based on average holding time\n",
        "V(g)$size <- sqrt(V(g)$AverageHoldingTime) * 20  # Adjust scaling for better visualization\n",
        "\n",
        "# Set edge width based on transition frequency\n",
        "E(g)$width <- E(g)$Transitions / max(E(g)$Transitions) * 10  # Adjust scaling for better visualization\n",
        "\n",
        "# Set edge color based on transition probability (higher probability -> darker color)\n",
        "E(g)$color <- gray.colors(100, start = 1, end = 0)[as.numeric(cut(E(g)$Probability, breaks = 100))]\n",
        "\n",
        "# Set labels for vertices\n",
        "V(g)$label <- paste(\"State\", V(g)$name)\n",
        "\n",
        "# Identifying important states\n",
        "# Plot the graph using a layout to minimize overlapping\n",
        "plot(g,\n",
        "     layout = layout_with_kk(g),\n",
        "     edge.arrow.size = 0.5,\n",
        "     vertex.label.cex = 1.2,  # Increase font size for better readability\n",
        "     vertex.label.dist = 1.5,\n",
        "     main = \"Process Map with Average Holding Times and Transition Probabilities\",\n",
        "     vertex.label.color = \"black\",\n",
        "     edge.label = paste(\"Time:\", round(E(g)$AverageTime, 2), \"\\nProb:\", round(E(g)$Probability, 2)),\n",
        "     edge.label.cex = 1,  # Increase font size for edge labels\n",
        "     edge.curved = 0.2,  # Add curvature to edges\n",
        "     edge.color = E(g)$color)  # Set the edge color\n"
      ],
      "metadata": {
        "colab": {
          "base_uri": "https://localhost:8080/",
          "height": 437
        },
        "id": "24yn3AThcRjb",
        "outputId": "6bedfb6b-dc24-43e8-c4e0-e01d1d33989e"
      },
      "execution_count": 64,
      "outputs": [
        {
          "output_type": "display_data",
          "data": {
            "text/plain": [
              "Plot with title “Process Map with Average Holding Times and Transition Probabilities”"
            ],
            "image/png": "[encoded data removed]"
          },
          "metadata": {
            "image/png": {
              "width": 420,
              "height": 420
            }
          }
        }
      ]
    },
    {
      "cell_type": "markdown",
      "source": [
        "## igraph: the most frequent transitions visually (count)"
      ],
      "metadata": {
        "id": "SIrqJFMoqaRh"
      }
    },
    {
      "cell_type": "code",
      "source": [
        "library(igraph)\n",
        "library(dplyr)\n",
        "library(grDevices)\n",
        "\n",
        "set.seed(123)  # For reproducibility\n",
        "\n",
        "# Define the rate (generator) matrix\n",
        "Q <- as.matrix(rbind(\n",
        "  c(0, 0.25, 0, 0.25),\n",
        "  c(0.166, 0, 0.166, 0.166),\n",
        "  c(0, 0.25, 0, 0.25),\n",
        "  c(0, 0, 0, 0)\n",
        "))\n",
        "\n",
        "# Define the state space\n",
        "states <- 1:nrow(Q)\n",
        "\n",
        "# Function to choose the next state based on current state and rate matrix\n",
        "next_state <- function(current_state, Q) {\n",
        "  rates <- Q[current_state, ]\n",
        "  if (sum(rates) == 0) {\n",
        "    return(current_state)  # Stay in the current state if no transitions are possible\n",
        "  }\n",
        "  probs <- rates / sum(rates)\n",
        "  return(sample(states, size = 1, prob = probs))\n",
        "}\n",
        "\n",
        "# Function to determine the holding time based on the current state\n",
        "holding_time <- function(current_state, Q) {\n",
        "  rate <- sum(Q[current_state, ])\n",
        "  if (rate == 0) {\n",
        "    return(Inf)  # Infinite holding time if no transitions are possible\n",
        "  }\n",
        "  return(rexp(1, rate = rate))\n",
        "}\n",
        "\n",
        "# Function to simulate a single Markov chain sequence\n",
        "simulate_markov_chain <- function(Q, n_transitions, initial_state) {\n",
        "  current_state <- initial_state\n",
        "  current_time <- 0\n",
        "  sequence_of_states <- c(current_state)\n",
        "  transition_times <- c(current_time)\n",
        "\n",
        "  for (i in 1:n_transitions) {\n",
        "    ht <- holding_time(current_state, Q)\n",
        "    if (ht == Inf) {\n",
        "      break  # Stop if holding time is infinite\n",
        "    }\n",
        "    current_time <- current_time + ht\n",
        "    current_state <- next_state(current_state, Q)\n",
        "\n",
        "    sequence_of_states <- c(sequence_of_states, current_state)\n",
        "    transition_times <- c(transition_times, current_time)\n",
        "  }\n",
        "\n",
        "  return(data.frame(Time = transition_times, State = sequence_of_states))\n",
        "}\n",
        "\n",
        "# Parameters\n",
        "n_simulations <- 1000\n",
        "n_transitions <- 100\n",
        "initial_state <- 1\n",
        "\n",
        "# List to store results of all simulations\n",
        "all_simulations <- list()\n",
        "\n",
        "# Generate multiple series\n",
        "for (i in 1:n_simulations) {\n",
        "  sim_result <- simulate_markov_chain(Q, n_transitions, initial_state)\n",
        "  sim_result$Simulation <- i  # Add a column to identify the simulation\n",
        "  all_simulations[[i]] <- sim_result\n",
        "}\n",
        "\n",
        "# Combine all simulations into a single data frame\n",
        "combined_results <- do.call(rbind, all_simulations)\n",
        "\n",
        "# Create an edgelist with average holding times and transition frequencies\n",
        "\n",
        "# Generate the transition times correctly\n",
        "combined_results <- combined_results %>%\n",
        "  group_by(Simulation) %>%\n",
        "  mutate(NextState = lead(State),\n",
        "         NextTime = lead(Time)) %>%\n",
        "  filter(!is.na(NextState))\n",
        "\n",
        "edges <- combined_results %>%\n",
        "  group_by(State, NextState) %>%\n",
        "  summarize(AverageTime = mean(NextTime - Time), Transitions = n(), .groups = 'drop')\n",
        "\n",
        "# Calculate transition probabilities\n",
        "total_transitions <- sum(edges$Transitions)\n",
        "edges <- edges %>%\n",
        "  mutate(Probability = Transitions / total_transitions,\n",
        "         Weight = Transitions)  # Set Weight as the frequency of the edge pair\n",
        "\n",
        "# Calculate average holding time per state\n",
        "node_list <- combined_results %>%\n",
        "  group_by(State) %>%\n",
        "  summarize(AverageHoldingTime = mean(diff(Time)), .groups = 'drop')\n",
        "\n",
        "# Create a unified vertex list from both State and NextState\n",
        "unique_states <- unique(c(edges$State, edges$NextState))\n",
        "vertex_list <- data.frame(State = unique_states) %>%\n",
        "  left_join(node_list, by = c(\"State\" = \"State\")) %>%\n",
        "  mutate(AverageHoldingTime = ifelse(is.na(AverageHoldingTime), 0, AverageHoldingTime))\n",
        "\n",
        "# Create a graph using igraph\n",
        "g <- graph_from_data_frame(d = edges, vertices = vertex_list, directed = TRUE)\n",
        "\n",
        "# Set vertex size based on average holding time\n",
        "V(g)$size <- sqrt(V(g)$AverageHoldingTime) * 20  # Adjust scaling for better visualization\n",
        "\n",
        "# Set edge width based on the new weight (frequency of edge pair)\n",
        "E(g)$width <- E(g)$Weight / max(E(g)$Weight) * 10  # Adjust scaling for better visualization\n",
        "\n",
        "# Create a custom color palette with better contrast\n",
        "color_palette <- colorRampPalette(c(\"lightblue\", \"blue\", \"darkblue\"))(100)\n",
        "E(g)$color <- color_palette[as.numeric(cut(E(g)$Probability, breaks = 100))]\n",
        "\n",
        "# Set labels for vertices\n",
        "V(g)$label <- paste(\"State\", V(g)$name)\n",
        "\n",
        "# Plot the graph using a layout to minimize overlapping\n",
        "plot(g,\n",
        "     layout = layout_with_kk(g),\n",
        "     edge.arrow.size = 0.5,\n",
        "     vertex.label.cex = 1.2,  # Increase font size for better readability\n",
        "     vertex.label.dist = 1.5,\n",
        "     main = \"Process Map with Transition Frequency\",\n",
        "     vertex.label.color = \"black\",\n",
        "     edge.label = E(g)$Weight,  # Label with the frequency of transitions\n",
        "     edge.label.cex = 1,  # Increase font size for edge labels\n",
        "     edge.curved = 0.2,  # Add curvature to edges\n",
        "     edge.color = E(g)$color)  # Set the edge color\n"
      ],
      "metadata": {
        "colab": {
          "base_uri": "https://localhost:8080/",
          "height": 437
        },
        "id": "JTLZzmvHh_oc",
        "outputId": "c27213c5-9187-4e9e-9010-1fa8ec1241ac"
      },
      "execution_count": 51,
      "outputs": [
        {
          "output_type": "display_data",
          "data": {
            "text/plain": [
              "Plot with title “Process Map with Transition Frequency”"
            ],
            "image/png": "[encoded data removed]"
          },
          "metadata": {
            "image/png": {
              "width": 420,
              "height": 420
            }
          }
        }
      ]
    },
    {
      "cell_type": "markdown",
      "source": [
        "## igraph: find the shortest path"
      ],
      "metadata": {
        "id": "To9CKw2jqgHr"
      }
    },
    {
      "cell_type": "code",
      "source": [
        "# Function to find the shortest path using Dijkstra's algorithm\n",
        "find_shortest_path <- function(graph, source, target) {\n",
        "  # Find the shortest path\n",
        "  sp <- shortest_paths(graph, from = as.character(source), to = as.character(target), weights = E(graph)$Weight, mode = \"out\")\n",
        "  return(sp)\n",
        "}\n",
        "\n",
        "# Define source and target nodes\n",
        "source <- 1\n",
        "target <- 4\n",
        "\n",
        "# Find the shortest path from source to target\n",
        "shortest_path <- find_shortest_path(g, source, target)\n",
        "\n",
        "# Extract the vertices and edges in the shortest path\n",
        "shortest_path_vertices <- V(g)[shortest_path$vpath[[1]]]\n",
        "shortest_path_edges <- E(g, path = shortest_path$vpath[[1]])\n",
        "\n",
        "# Print the shortest path vertices and edges\n",
        "print(shortest_path_vertices)  # Vertices in the shortest path\n",
        "print(shortest_path_edges)     # Edges in the shortest path\n",
        "\n",
        "# Print the shortest path in a readable format\n",
        "cat(\"Shortest path from\", source, \"to\", t arget, \"is:\\n\")\n",
        "cat(paste(shortest_path_vertices$name, collapse = \" -> \"), \"\\n\")\n",
        "cat(\"Total weight: \", sum(E(g, path = shortest_path$vpath[[1]])$Weight), \"\\n\")"
      ],
      "metadata": {
        "colab": {
          "base_uri": "https://localhost:8080/"
        },
        "id": "prgAmrEAkRpp",
        "outputId": "03ff1347-6763-42a5-fae6-012af953f811"
      },
      "execution_count": 57,
      "outputs": [
        {
          "output_type": "stream",
          "name": "stdout",
          "text": [
            "+ 2/4 vertices, named, from ea25f66:\n",
            "[1] 1 4\n",
            "+ 1/7 edge from ea25f66 (vertex names):\n",
            "[1] 1->4\n",
            "Shortest path from 1 to 4 is:\n",
            "1 -> 4 \n",
            "Total weight:  601 \n"
          ]
        }
      ]
    },
    {
      "cell_type": "markdown",
      "source": [
        "## igraph: find the longest path (not working)"
      ],
      "metadata": {
        "id": "uOiTL9B5qkn7"
      }
    },
    {
      "cell_type": "code",
      "source": [
        "# Check if the graph is a DAG\n",
        "if (!is_dag(g)) {\n",
        "  stop(\"The graph is not a Directed Acyclic Graph (DAG). Longest path calculation requires a DAG.\")\n",
        "}\n",
        "\n",
        "find_longest_path <- function(graph, source, target) {\n",
        "  # Negate the weights\n",
        "  E(graph)$negWeight <- -E(graph)$Weight\n",
        "\n",
        "  # Find the shortest path with the negated weights\n",
        "  sp <- shortest_paths(graph, from = as.character(source), to = as.character(target), weights = E(graph)$negWeight, mode = \"out\")\n",
        "  return(sp)\n",
        "}\n",
        "\n",
        "# Define source and target nodes\n",
        "source <- 1\n",
        "target <- 4\n",
        "\n",
        "# Find the longest path from source to target\n",
        "longest_path <- find_longest_path(g, source, target)\n",
        "\n",
        "# Extract the vertices and edges in the longest path\n",
        "longest_path_vertices <- V(g)[longest_path$vpath[[1]]]\n",
        "longest_path_edges <- E(g, path = longest_path$vpath[[1]])\n",
        "\n",
        "# Print the longest path vertices and edges\n",
        "print(longest_path_vertices)  # Vertices in the longest path\n",
        "print(longest_path_edges)     # Edges in the longest path\n",
        "\n",
        "# Print the longest path in a readable format\n",
        "cat(\"Longest path from\", source, \"to\", target, \"is:\\n\")\n",
        "cat(paste(longest_path_vertices$name, collapse = \" -> \"), \"\\n\")\n",
        "cat(\"Total weight: \", sum(-E(g, path = longest_path$vpath[[1]])$negWeight), \"\\n\")  # Negate back the weights to get the original values\n"
      ],
      "metadata": {
        "colab": {
          "base_uri": "https://localhost:8080/",
          "height": 106
        },
        "id": "QV1o_KlCoEgp",
        "outputId": "b7d0c3b1-d498-4a68-805a-4c47c11ff28b"
      },
      "execution_count": 61,
      "outputs": [
        {
          "output_type": "error",
          "ename": "ERROR",
          "evalue": "Error in eval(expr, envir, enclos): The graph is not a Directed Acyclic Graph (DAG). Longest path calculation requires a DAG.\n",
          "traceback": [
            "Error in eval(expr, envir, enclos): The graph is not a Directed Acyclic Graph (DAG). Longest path calculation requires a DAG.\nTraceback:\n",
            "1. stop(\"The graph is not a Directed Acyclic Graph (DAG). Longest path calculation requires a DAG.\")   # at line 3 of file <text>"
          ]
        }
      ]
    },
    {
      "cell_type": "markdown",
      "source": [
        "## Sort paths by length (frequency of subprocess)"
      ],
      "metadata": {
        "id": "GBGZcynjpUVP"
      }
    },
    {
      "cell_type": "code",
      "source": [
        "# Function to find all paths from source to target\n",
        "find_all_paths <- function(graph, source, target) {\n",
        "  all_paths <- all_simple_paths(graph, from = as.character(source), to = as.character(target), mode = \"out\")\n",
        "  return(all_paths)\n",
        "}\n",
        "\n",
        "# Function to calculate the weight of a path\n",
        "calculate_path_weight <- function(graph, path) {\n",
        "  edges <- E(graph, path = path)\n",
        "  total_weight <- sum(E(graph)[edges]$Weight)\n",
        "  return(total_weight)\n",
        "}\n",
        "\n",
        "# Define source and target nodes\n",
        "source <- 1\n",
        "target <- 4\n",
        "\n",
        "# Find all paths from source to target\n",
        "all_paths <- find_all_paths(g, source, target)\n",
        "\n",
        "# Calculate weights for all paths\n",
        "path_weights <- sapply(all_paths, function(path) calculate_path_weight(g, path))\n",
        "\n",
        "# Combine paths and their weights into a data frame\n",
        "path_info <- data.frame(\n",
        "  path = I(all_paths),\n",
        "  weight = path_weights\n",
        ")\n",
        "\n",
        "# Sort paths by weight (longest to shortest)\n",
        "sorted_paths <- path_info %>% arrange(desc(weight))\n",
        "\n",
        "# Print the sorted paths and their weights\n",
        "cat(\"Paths from\", source, \"to\", target, \"sorted by weight (longest to shortest):\\n\")\n",
        "for (i in 1:nrow(sorted_paths)) {\n",
        "  path <- sorted_paths$path[[i]]\n",
        "  weight <- sorted_paths$weight[i]\n",
        "  cat(paste(V(g)[path]$name, collapse = \" -> \"), \"with total weight:\", weight, \"\\n\")\n",
        "}\n"
      ],
      "metadata": {
        "colab": {
          "base_uri": "https://localhost:8080/"
        },
        "id": "l1nNDG0ZpKjc",
        "outputId": "c29de7c6-ad2b-4c84-f051-d173bc722179"
      },
      "execution_count": 63,
      "outputs": [
        {
          "output_type": "stream",
          "name": "stdout",
          "text": [
            "Paths from 1 to 4 sorted by weight (longest to shortest):\n",
            "1 -> 2 -> 3 -> 4 with total weight: 988 \n",
            "1 -> 2 -> 4 with total weight: 952 \n",
            "1 -> 4 with total weight: 601 \n"
          ]
        }
      ]
    },
    {
      "cell_type": "markdown",
      "source": [
        "# TO-DO: questions to ponder"
      ],
      "metadata": {
        "id": "2UWEXc-cuJXt"
      }
    },
    {
      "cell_type": "markdown",
      "source": [
        "* TO-DO: do we account for the initial distribution of markov chain? e.g. if there is a 33.4% percent chance of being in state 1,2,3 equally. shouldn't there be an equal number of simulations in each of state 1, 2, and 3?\n",
        "\n",
        "* TO-DO: unbiased estimator of this approach? does it matter if there is no stationary distribution? how do we account for non-stationary distributions? can we do the same simulations with state-space model? Is the ODE in space-state models a good assumption for modeling process (what about higher-order derivations)? does it make sense to generate the sequences by some variable x, model the most frequent sequences for each level of x, and claim that these processes are in fact data-generating process for each level of x (e.g. here is the most frequent process for male and female)? how do we estimate confidence interval or introduce this concept? if a continous and discrete markov process give different results, how do we reconcile? how do we justify discrete vs. continous (and associated optimization challenges)? how do we know if the modeling through msm makes sense (failed to converge; if it converge, it could still fail to describe the buisness process). how do we demonstrate markov chain is just a special case of graphical models? how do we model the total variance of the sum of individual transition time (summing up to total time it takes for transitions to take place from source to target states)?\n",
        "\n",
        "* TO-DO: check of if there is deterministic/closed form solutions for finding or approximating the most frequent sequences\n",
        "\n",
        "* TO-DO: compare simulation results of both discrete and continous process\n",
        "\n",
        "* TO-DO: the gpu-accelerated implementation is not working yet\n",
        "\n",
        "* TO-DO: produce an animation to show the data generating process (state transition, time)\n"
      ],
      "metadata": {
        "id": "AURlEbnotXOR"
      }
    }
  ]
}